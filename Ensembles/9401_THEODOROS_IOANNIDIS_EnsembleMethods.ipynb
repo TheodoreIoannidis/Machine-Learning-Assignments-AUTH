{
  "cells": [
    {
      "cell_type": "markdown",
      "metadata": {
        "id": "O8gU7AYPXMmA"
      },
      "source": [
        "## About iPython Notebooks ##\n",
        "\n",
        "iPython Notebooks are interactive coding environments embedded in a webpage. You will be using iPython notebooks in this class. Make sure you fill in any place that says `# BEGIN CODE HERE #END CODE HERE`. After writing your code, you can run the cell by either pressing \"SHIFT\"+\"ENTER\" or by clicking on \"Run\" (denoted by a play symbol). Before you turn this problem in, make sure everything runs as expected. First, **restart the kernel** (in the menubar, select Kernel$\\rightarrow$Restart) and then **run all cells** (in the menubar, select Cell$\\rightarrow$Run All). \n",
        "\n",
        " **What you need to remember:**\n",
        "\n",
        "- Run your cells using SHIFT+ENTER (or \"Run cell\")\n",
        "- Write code in the designated areas using Python 3 only\n",
        "- Do not modify the code outside of the designated areas\n",
        "- In some cases you will also need to explain the results. There will also be designated areas for that. \n",
        "\n",
        "Fill in your **NAME** and **AEM** below:"
      ]
    },
    {
      "cell_type": "code",
      "execution_count": null,
      "metadata": {
        "id": "lO-jJrtNXMmH"
      },
      "outputs": [],
      "source": [
        "NAME = \"THEODOROS\"\n",
        "AEM = \"IOANNIDIS\""
      ]
    },
    {
      "cell_type": "markdown",
      "metadata": {
        "id": "sh0EE7BJXMmJ"
      },
      "source": [
        "---"
      ]
    },
    {
      "cell_type": "markdown",
      "metadata": {
        "id": "v_VpnGyWXMmK"
      },
      "source": [
        "# Assignment 3 - Ensemble Methods #"
      ]
    },
    {
      "cell_type": "markdown",
      "metadata": {
        "id": "2dQ9XoGQXMmK"
      },
      "source": [
        "Welcome to your third assignment. This exercise will test your understanding on Ensemble Methods."
      ]
    },
    {
      "cell_type": "code",
      "execution_count": null,
      "metadata": {
        "id": "JvHYIhS-XMmL"
      },
      "outputs": [],
      "source": [
        "# Always run this cell\n",
        "import numpy as np\n",
        "import pandas as pd\n",
        "\n",
        "# USE THE FOLLOWING RANDOM STATE FOR YOUR CODE\n",
        "RANDOM_STATE = 42"
      ]
    },
    {
      "cell_type": "markdown",
      "metadata": {
        "id": "joKwpih2XMmM"
      },
      "source": [
        "## Download the Dataset ##\n",
        "Download the dataset using the following cell or from this [link](https://github.com/sakrifor/public/tree/master/machine_learning_course/EnsembleDataset) and put the files in the same folder as the .ipynb file. \n",
        "In this assignment you are going to work with a dataset originated from the [ImageCLEFmed: The Medical Task 2016](https://www.imageclef.org/2016/medical) and the **Compound figure detection** subtask. The goal of this subtask is to identify whether a figure is a compound figure (one image consists of more than one figure) or not. The train dataset consits of 4197 examples/figures and each figure has 4096 features which were extracted using a deep neural network. The *CLASS* column represents the class of each example where 1 is a compoung figure and 0 is not. \n"
      ]
    },
    {
      "cell_type": "code",
      "execution_count": null,
      "metadata": {
        "colab": {
          "base_uri": "https://localhost:8080/"
        },
        "id": "NJdwPr0bXMmM",
        "outputId": "01b20922-5ed0-49d5-cbbe-28fec662785e"
      },
      "outputs": [
        {
          "data": {
            "text/plain": [
              "('test_set_noclass.csv', <http.client.HTTPMessage at 0x7f0ee76d1750>)"
            ]
          },
          "execution_count": 5,
          "metadata": {},
          "output_type": "execute_result"
        }
      ],
      "source": [
        "import urllib.request\n",
        "url_train = 'https://github.com/sakrifor/public/raw/master/machine_learning_course/EnsembleDataset/train_set.csv'\n",
        "filename_train = 'train_set.csv'\n",
        "urllib.request.urlretrieve(url_train, filename_train)\n",
        "url_test = 'https://github.com/sakrifor/public/raw/master/machine_learning_course/EnsembleDataset/test_set_noclass.csv'\n",
        "filename_test = 'test_set_noclass.csv'\n",
        "urllib.request.urlretrieve(url_test, filename_test)"
      ]
    },
    {
      "cell_type": "code",
      "execution_count": null,
      "metadata": {
        "id": "t0OVtYr7XMmN"
      },
      "outputs": [],
      "source": [
        "# Run this cell to load the data\n",
        "train_set = pd.read_csv(\"train_set.csv\").sample(frac=1).reset_index(drop=True)\n",
        "train_set.head()\n",
        "X = train_set.drop(columns=['CLASS'])\n",
        "y = train_set['CLASS'].values"
      ]
    },
    {
      "cell_type": "markdown",
      "metadata": {
        "id": "ZxOGHSmqXMmO"
      },
      "source": [
        "## 1.0 Testing different ensemble methods ##\n",
        "In this part of the assignment you are asked to create and test different ensemble methods using the train_set.csv dataset. You should use **10-fold cross validation** for your tests and report the average f-measure weighted and balanced accuracy of your models. You can use [cross_validate](https://scikit-learn.org/stable/modules/generated/sklearn.model_selection.cross_validate.html#sklearn.model_selection.cross_validate) and select both metrics to be measured during the evaluation. Otherwise, you can use [KFold](https://scikit-learn.org/stable/modules/generated/sklearn.model_selection.KFold.html#sklearn.model_selection.KFold).\n",
        "\n",
        "### !!! Use n_jobs=-1 where is posibble to use all the cores of a machine for running your tests ###"
      ]
    },
    {
      "cell_type": "markdown",
      "metadata": {
        "id": "Ww_u4OlrXMmO"
      },
      "source": [
        "### 1.1 Voting ###\n",
        "Create a voting classifier which uses three **simple** estimators/classifiers. Test both soft and hard voting and choose the best one. Consider as simple estimators the following:\n",
        "\n",
        "\n",
        "*   Decision Trees\n",
        "*   Linear Models\n",
        "*   Probabilistic Models (Naive Bayes)\n",
        "*   KNN Models  "
      ]
    },
    {
      "cell_type": "code",
      "execution_count": null,
      "metadata": {
        "id": "RwvPacgkXMmP"
      },
      "outputs": [],
      "source": [
        "# BEGIN CODE HERE\n",
        "from sklearn.ensemble import VotingClassifier\n",
        "from sklearn.tree import DecisionTreeClassifier\n",
        "from sklearn.neighbors import KNeighborsClassifier\n",
        "from sklearn.linear_model import LogisticRegression\n",
        "from sklearn import model_selection\n",
        "\n",
        "cls1 = DecisionTreeClassifier(random_state= RANDOM_STATE) # Classifier #1 \n",
        "cls2 = KNeighborsClassifier(n_neighbors= 3) # Classifier #2 \n",
        "cls3 = LogisticRegression(random_state= RANDOM_STATE) # Classifier #1\n",
        "soft_vcls = VotingClassifier([('DecisionTree', cls1), ('KNeighbors', cls2), ('Logistic', cls3)], voting = 'soft') # Voting Classifier\n",
        "hard_vcls = VotingClassifier([('DecisionTree', cls1), ('KNeighbors', cls2), ('Logistic', cls3)], voting = 'hard') # Voting Classifier\n",
        "\n",
        "svlcs_scores = model_selection.cross_validate(soft_vcls, X, y, cv= 10, n_jobs= -1, scoring= ['f1_weighted', 'balanced_accuracy'])\n",
        "s_avg_fmeasure = svlcs_scores['test_f1_weighted'].mean() # The average f-measure\n",
        "s_avg_accuracy = svlcs_scores['test_balanced_accuracy'].mean() # The average accuracy\n",
        "\n",
        "hvlcs_scores = model_selection.cross_validate(hard_vcls, X, y, cv= 10, n_jobs= -1, scoring= ['f1_weighted', 'balanced_accuracy'])\n",
        "h_avg_fmeasure = hvlcs_scores['test_f1_weighted'].mean() # The average f-measure\n",
        "h_avg_accuracy = hvlcs_scores['test_balanced_accuracy'].mean() # The average accuracy\n",
        "#END CODE HERE"
      ]
    },
    {
      "cell_type": "code",
      "execution_count": null,
      "metadata": {
        "colab": {
          "base_uri": "https://localhost:8080/"
        },
        "id": "sQQvClrmXMmQ",
        "outputId": "dc8506a6-6238-4884-bb7f-98d6ae488769"
      },
      "outputs": [
        {
          "name": "stdout",
          "output_type": "stream",
          "text": [
            "Classifier:\n",
            "VotingClassifier(estimators=[('DecisionTree',\n",
            "                              DecisionTreeClassifier(random_state=42)),\n",
            "                             ('KNeighbors',\n",
            "                              KNeighborsClassifier(n_neighbors=3)),\n",
            "                             ('Logistic', LogisticRegression(random_state=42))],\n",
            "                 voting='soft')\n",
            "F1 Weighted-Score: 0.8286 & Balanced Accuracy: 0.8212\n"
          ]
        }
      ],
      "source": [
        "print(\"Classifier:\")\n",
        "print(soft_vcls)\n",
        "print(\"F1 Weighted-Score: {} & Balanced Accuracy: {}\".format(round(s_avg_fmeasure,4), round(s_avg_accuracy,4)))"
      ]
    },
    {
      "cell_type": "markdown",
      "metadata": {
        "id": "k-iJK9pFaDka"
      },
      "source": [
        "You should achive above 82% (Soft Voting Classifier)"
      ]
    },
    {
      "cell_type": "code",
      "execution_count": null,
      "metadata": {
        "colab": {
          "base_uri": "https://localhost:8080/"
        },
        "id": "XRNkVAvEYVbn",
        "outputId": "1a1c2e7c-29f2-47f7-d840-c7b817938974"
      },
      "outputs": [
        {
          "name": "stdout",
          "output_type": "stream",
          "text": [
            "Classifier:\n",
            "VotingClassifier(estimators=[('DecisionTree',\n",
            "                              DecisionTreeClassifier(random_state=42)),\n",
            "                             ('KNeighbors',\n",
            "                              KNeighborsClassifier(n_neighbors=3)),\n",
            "                             ('Logistic', LogisticRegression(random_state=42))])\n",
            "F1 Weighted-Score: 0.8296 & Balanced Accuracy: 0.8224\n"
          ]
        }
      ],
      "source": [
        "print(\"Classifier:\")\n",
        "print(hard_vcls)\n",
        "print(\"F1 Weighted-Score: {} & Balanced Accuracy: {}\".format(round(h_avg_fmeasure,4), round(h_avg_accuracy,4)))"
      ]
    },
    {
      "cell_type": "markdown",
      "metadata": {
        "id": "V6M0CZO6aEHi"
      },
      "source": [
        "You should achieve above 80% in both! (Hard Voting Classifier)"
      ]
    },
    {
      "cell_type": "markdown",
      "metadata": {
        "id": "xVPuIxwFXMmR"
      },
      "source": [
        "### 1.2 Stacking ###\n",
        "Create a stacking classifier which uses two more complex estimators. Try different simple classifiers (like the ones mentioned before) for the combination of the initial estimators. Report your results in the following cell.\n",
        "\n",
        "Consider as complex estimators the following:\n",
        "\n",
        "*   Random Forest\n",
        "*   SVM\n",
        "*   Gradient Boosting\n",
        "*   MLP\n",
        "\n",
        "\n"
      ]
    },
    {
      "cell_type": "markdown",
      "metadata": {
        "id": "zT8N5oeJNgRy"
      },
      "source": [
        "##### Tests: \n",
        "    \n",
        "* final_estimator = KNearestNeighbors(n_neighbors = 3)\n",
        "   \n",
        "    * MLPClassifier με hidden_layer_sizes = (100,), SVC with default parameters and the classifier achieved 83-84% weighted f1 and balanced accuracy scores.\n",
        "\n",
        "    * Replaced SVC with XGBoost and the classifier performed worse 81-82%. Also it was significantly slower.\n",
        "\n",
        "I decided to add another complex estimator, hoping to achieve better results. Also, this time I used LogisticRegression as the final estimator.\n",
        "\n",
        "* final_estimator= LogisticRegression()\n",
        "\n",
        "    * MLPClassifier(hidden_layer_sizes = (100,)), RandomForestClassifier, SVC with default parameters.\n",
        "\n",
        "The results were F1 Weighted Score: 0.8657 & Balanced Accuracy: 0.8593. Increasing the number of complex estimators definitely had a negative impact on the time. With that being said"
      ]
    },
    {
      "cell_type": "code",
      "execution_count": null,
      "metadata": {
        "id": "HX6T1qrFXMmS"
      },
      "outputs": [],
      "source": [
        "# BEGIN CODE HERE\n",
        "from sklearn.neural_network import MLPClassifier\n",
        "from sklearn.ensemble import RandomForestClassifier\n",
        "from sklearn.svm import SVC\n",
        "from sklearn.linear_model import LogisticRegression\n",
        "from sklearn.ensemble import StackingClassifier\n",
        "from sklearn import model_selection\n",
        "\n",
        "cls1 = MLPClassifier(hidden_layer_sizes= (100,), activation= 'relu', random_state= RANDOM_STATE) # Classifier #1 \n",
        "cls2 = RandomForestClassifier(random_state=RANDOM_STATE) # Classifier #2 \n",
        "cls3 = SVC(random_state=RANDOM_STATE) # Classifier #3\n",
        "final_cls = LogisticRegression(random_state= RANDOM_STATE)\n",
        "scls = StackingClassifier([('mlp', cls1), ('rf', cls2), ('SVC', cls3)], final_estimator=  final_cls) # Stacking Classifier\n",
        "scores = model_selection.cross_validate(scls, X, y, cv= 10, n_jobs= -1, scoring= ['f1_weighted', 'balanced_accuracy'])\n",
        "avg_fmeasure = scores['test_f1_weighted'].mean() # The average f-measure\n",
        "avg_accuracy = scores['test_balanced_accuracy'].mean() # The average accuracy\n",
        "#END CODE HERE"
      ]
    },
    {
      "cell_type": "code",
      "execution_count": null,
      "metadata": {
        "colab": {
          "base_uri": "https://localhost:8080/"
        },
        "id": "-JLRzkQ1XMmT",
        "outputId": "e9ba4444-ee69-44ac-a52d-3098678fde1b"
      },
      "outputs": [
        {
          "name": "stdout",
          "output_type": "stream",
          "text": [
            "Classifier:\n",
            "StackingClassifier(estimators=[('mlp', MLPClassifier(random_state=42)),\n",
            "                               ('rf', RandomForestClassifier(random_state=42)),\n",
            "                               ('SVC', SVC(random_state=42))],\n",
            "                   final_estimator=LogisticRegression(random_state=42))\n",
            "F1 Weighted Score: 0.8657 & Balanced Accuracy: 0.8593\n"
          ]
        }
      ],
      "source": [
        "print(\"Classifier:\")\n",
        "print(scls)\n",
        "print(\"F1 Weighted Score: {} & Balanced Accuracy: {}\".format(round(avg_fmeasure,4), round(avg_accuracy,4)))"
      ]
    },
    {
      "cell_type": "markdown",
      "metadata": {
        "id": "zcgOx-HPvBI-"
      },
      "source": [
        "You should achieve above 85% in both"
      ]
    },
    {
      "cell_type": "markdown",
      "metadata": {
        "id": "O-nqW51xXMmU"
      },
      "source": [
        "## 2.0 Randomization ##"
      ]
    },
    {
      "cell_type": "markdown",
      "metadata": {
        "id": "KPG8MdFLXMmV"
      },
      "source": [
        "**2.1** You are asked to create three ensembles of decision trees where each one uses a different method for producing homogeneous ensembles. Compare them with a simple decision tree classifier and report your results in the dictionaries (dict) below using as key the given name of your classifier and as value the f1_weighted/balanced_accuracy score. The dictionaries should contain four different elements.  "
      ]
    },
    {
      "cell_type": "code",
      "execution_count": null,
      "metadata": {
        "id": "PmkaP-DjXMmV"
      },
      "outputs": [],
      "source": [
        "# BEGIN CODE HERE\n",
        "from sklearn.tree import DecisionTreeClassifier\n",
        "from sklearn.ensemble import RandomForestClassifier, ExtraTreesClassifier, GradientBoostingClassifier\n",
        "ens1 = RandomForestClassifier(n_estimators=200 ,random_state= RANDOM_STATE)\n",
        "ens2 = ExtraTreesClassifier(random_state= RANDOM_STATE)\n",
        "ens3 = GradientBoostingClassifier(random_state= RANDOM_STATE)\n",
        "tree = DecisionTreeClassifier(random_state= RANDOM_STATE)\n",
        "\n",
        "score1 = model_selection.cross_validate(ens1, X, y, cv= 10, n_jobs= -1, scoring= ['f1_weighted', 'balanced_accuracy'])\n",
        "score2 = model_selection.cross_validate(ens2, X, y, cv= 10, n_jobs= -1, scoring= ['f1_weighted', 'balanced_accuracy'])\n",
        "score3 = model_selection.cross_validate(ens3, X, y, cv= 10, n_jobs= -1, scoring= ['f1_weighted', 'balanced_accuracy'])\n",
        "score4 = model_selection.cross_validate(tree, X, y, cv= 10, n_jobs= -1, scoring= ['f1_weighted', 'balanced_accuracy'])\n",
        "\n",
        "f_measures = dict({\"Random Forest\": score1['test_f1_weighted'].mean() , \"Extra Trees\": score2['test_f1_weighted'].mean(),\n",
        "                   \"Grad Boost\": score3['test_f1_weighted'].mean(), \"Decision Tree\": score4['test_f1_weighted'].mean() })\n",
        "\n",
        "accuracies = dict({\"Random Forest\": score1['test_balanced_accuracy'].mean() , \"Extra Trees\": score2['test_balanced_accuracy'].mean(),\n",
        "                   \"Grad Boost\": score3['test_balanced_accuracy'].mean(), \"Decision Tree\": score4['test_balanced_accuracy'].mean()})\n",
        "# Example f_measures = {'Simple Decision': 0.8551, 'Ensemble with random ...': 0.92, ...}\n",
        "\n",
        "#END CODE HERE"
      ]
    },
    {
      "cell_type": "code",
      "execution_count": null,
      "metadata": {
        "colab": {
          "base_uri": "https://localhost:8080/"
        },
        "id": "IUqhDUuCXMmW",
        "outputId": "d9b52d26-a101-4d49-e490-e6315e03eed8"
      },
      "outputs": [
        {
          "name": "stdout",
          "output_type": "stream",
          "text": [
            "RandomForestClassifier(random_state=42)\n",
            "ExtraTreesClassifier(random_state=42)\n",
            "GradientBoostingClassifier(random_state=42)\n",
            "DecisionTreeClassifier(random_state=42)\n",
            "Classifier:Random Forest -  F1 Weighted:0.8048\n",
            "Classifier:Extra Trees -  F1 Weighted:0.8083\n",
            "Classifier:Grad Boost -  F1 Weighted:0.8197\n",
            "Classifier:Decision Tree -  F1 Weighted:0.7046\n",
            "Classifier:Random Forest -  BalancedAccuracy:0.7901\n",
            "Classifier:Extra Trees -  BalancedAccuracy:0.7939\n",
            "Classifier:Grad Boost -  BalancedAccuracy:0.8089\n",
            "Classifier:Decision Tree -  BalancedAccuracy:0.6957\n"
          ]
        }
      ],
      "source": [
        "print(ens1)\n",
        "print(ens2)\n",
        "print(ens3)\n",
        "print(tree)\n",
        "for name,score in f_measures.items():\n",
        "    print(\"Classifier:{} -  F1 Weighted:{}\".format(name,round(score,4)))\n",
        "for name,score in accuracies.items():\n",
        "    print(\"Classifier:{} -  BalancedAccuracy:{}\".format(name,round(score,4)))"
      ]
    },
    {
      "cell_type": "markdown",
      "metadata": {
        "id": "UqdXTE_2XMmX"
      },
      "source": [
        "**2.2** Describe your classifiers and your results.\n"
      ]
    },
    {
      "cell_type": "markdown",
      "metadata": {
        "id": "rU9POFftXMmX"
      },
      "source": [
        "The classifiers I tested were: RandomForestClassifier, Extra-Trees Classifiers, Gradient Boosting Classifier and a Simple Decision Tree Classifier. The best Weighted F1 score and Balanced Accuracy were produced from the Gradient Boosting Classifier (F1 Weighted: 0.8197, BalancedAccuracy: 0.8089). The second best model was the ExtraTreesClassifier (F1 Weighted: 0.8083, BalancedAccuracy: 0.7939), the third best was Random Forest with 200 estimators (F1 Weighted: 0.8048, BalancedAccuracy: 0.7901) The Gradient Boosting Classifier was the slowest of all. \n",
        "As expected, the simple decision tree had the worst performance (F1 Weighted: 0.7046, BalancedAccuracy: 0.6957).\n",
        "\n",
        "(I chose to set the n_estimators in RandomForestClassifier to 200 in order to, hopefully, achieve better results)."
      ]
    },
    {
      "cell_type": "markdown",
      "metadata": {
        "id": "lkJeuV1FXMmX"
      },
      "source": [
        "**2.3** Increasing the number of estimators in a bagging classifier can drastically increase the training time of a classifier. Is there any solution to this problem? Can the same solution be applied to boosting classifiers?"
      ]
    },
    {
      "cell_type": "markdown",
      "metadata": {
        "id": "ApNEPcWEXMmY"
      },
      "source": [
        "Bagging produces heterogenous ensembles, and therefore, the models can be created and trained in parallel (by passing the arguement n_jobs = -1 in the Bagging Classifier). \n",
        "Boosting produces homogenous ensembles. This means that the models have to be created and trained sequentially. Unfortunately, this solution cannot be applied to boosting classifiers."
      ]
    },
    {
      "cell_type": "markdown",
      "metadata": {
        "id": "XgvsCbUGXMmY"
      },
      "source": [
        "## 3.0 Creating the best classifier ##"
      ]
    },
    {
      "cell_type": "markdown",
      "metadata": {
        "id": "Q6daX2mRXMmZ"
      },
      "source": [
        "**3.1** In this part of the assignment you are asked to train the best possible ensemble! Describe the process you followed to achieve this result. How did you choose your classifier and your parameters and why. Report the f-measure (weighted) & balanced accuracy (10-fold cross validation) of your final classifier and results of classifiers you tried in the cell following the code. Can you achieve a balanced accuracy over 83-84%?"
      ]
    },
    {
      "cell_type": "code",
      "execution_count": 13,
      "metadata": {
        "id": "00xAQ0HfXMmZ"
      },
      "outputs": [],
      "source": [
        "# BEGIN CODE HERE\n",
        "#for the stacking classifier\n",
        "from sklearn.neural_network import MLPClassifier\n",
        "from sklearn.ensemble import RandomForestClassifier\n",
        "from sklearn.svm import SVC\n",
        "from sklearn.linear_model import LogisticRegression\n",
        "from sklearn.ensemble import StackingClassifier\n",
        "from sklearn import model_selection\n",
        "\n",
        "cls1 = MLPClassifier(hidden_layer_sizes= (100,), activation= 'relu', random_state= RANDOM_STATE) # Classifier #1 \n",
        "cls2 = RandomForestClassifier(random_state=RANDOM_STATE) # Classifier #2 \n",
        "cls3 = SVC(random_state=RANDOM_STATE) # Classifier #3\n",
        "final_cls = LogisticRegression(random_state= RANDOM_STATE)\n",
        "best_cls = StackingClassifier([('MLP', cls1), ('RF', cls2), ('SVC', cls3)], final_estimator=  final_cls)\n",
        "\n",
        "scores = model_selection.cross_validate(best_cls, X, y, cv= 10, n_jobs= -1, scoring= ['f1_weighted', 'balanced_accuracy'])\n",
        "\n",
        "best_fmeasure = round(scores['test_f1_weighted'].mean(), 4)\n",
        "best_accuracy = round(scores['test_balanced_accuracy'].mean(),4)\n",
        "\n",
        "#END CODE HERE"
      ]
    },
    {
      "cell_type": "code",
      "execution_count": 14,
      "metadata": {
        "colab": {
          "base_uri": "https://localhost:8080/"
        },
        "id": "FbLB09agXMma",
        "outputId": "c4ccf8b5-2dd7-482d-eea2-3769ae9b2160"
      },
      "outputs": [
        {
          "name": "stdout",
          "output_type": "stream",
          "text": [
            "Classifier:\n",
            "StackingClassifier(estimators=[('MLP', MLPClassifier(random_state=42)),\n",
            "                               ('RF', RandomForestClassifier(random_state=42)),\n",
            "                               ('SVC', SVC(random_state=42))],\n",
            "                   final_estimator=LogisticRegression(random_state=42))\n",
            "F1 Weighted-Score:0.8657 & Balanced Accuracy:0.8593\n"
          ]
        }
      ],
      "source": [
        "print(\"Classifier:\")\n",
        "print(best_cls)\n",
        "print(\"F1 Weighted-Score:{} & Balanced Accuracy:{}\".format(best_fmeasure, best_accuracy))"
      ]
    },
    {
      "cell_type": "markdown",
      "metadata": {
        "id": "vnos1uqzXMma"
      },
      "source": [
        "**3.2** Describe the process you followed to achieve this result. How did you choose your classifier and your parameters and why. Report the f-measure & accuracy (10-fold cross validation) of your final classifier and results of classifiers you tried in the cell following the code."
      ]
    },
    {
      "cell_type": "markdown",
      "metadata": {
        "id": "o5dAfbTfXMmb"
      },
      "source": [
        "I chose the stacking classifier from 1.2, because it that had the best weighted f1 and balanced accuracy scores out of all the other models that I tested. The results were: \n",
        "\n",
        "F1 Weighted-Score: 0.8657\n",
        "\n",
        "Balanced Accuracy: 0.8593"
      ]
    },
    {
      "cell_type": "markdown",
      "metadata": {
        "id": "fQEFCmbcXMmb"
      },
      "source": [
        "**3.3** Create a classifier that is going to be used in production - in a live system. Use the *test_set_noclass.csv* to make predictions. Store the predictions in a list.  "
      ]
    },
    {
      "cell_type": "code",
      "execution_count": null,
      "metadata": {
        "id": "XQPgm_ubXMmc"
      },
      "outputs": [],
      "source": [
        "# BEGIN CODE HERE\n",
        "from sklearn.neural_network import MLPClassifier\n",
        "from sklearn.ensemble import RandomForestClassifier\n",
        "from sklearn.svm import SVC\n",
        "from sklearn.linear_model import LogisticRegression\n",
        "from sklearn.ensemble import StackingClassifier\n",
        "from sklearn import model_selection\n",
        "\n",
        "cls1 = MLPClassifier(hidden_layer_sizes= (100,), activation= 'relu', random_state= RANDOM_STATE) # Classifier #1 \n",
        "cls2 = RandomForestClassifier(random_state=RANDOM_STATE) # Classifier #2 \n",
        "cls3 = SVC(random_state=RANDOM_STATE) # Classifier #3\n",
        "final_cls = LogisticRegression(random_state= RANDOM_STATE)\n",
        "cls = StackingClassifier([('mlp', cls1), ('rf', cls2), ('SVC', cls3)], final_estimator=  final_cls)\n",
        "cls.fit(X, y)\n",
        "#END CODE HERE\n",
        "test_set = pd.read_csv(\"test_set_noclass.csv\")\n",
        "predictions = cls.predict(test_set)"
      ]
    },
    {
      "cell_type": "markdown",
      "metadata": {
        "id": "lnAp-d2DXMmf"
      },
      "source": [
        "I chose to use the Stacking Classifier with 3 complex estimators (MLP,RandomForestClassifier and SVC) and Logistic Regression as the final classifier that outperformed all the other models that I tested. It achieved F1 Weighted-Score: 0.8657\n",
        "and Balanced Accuracy: 0.8593."
      ]
    },
    {
      "cell_type": "markdown",
      "metadata": {
        "id": "Neagvu0TXMmg"
      },
      "source": [
        "#### This following cell will not be executed. The test_set.csv with the classes will be made available after the deadline and this cell is for testing purposes!!! Do not modify it! ###"
      ]
    },
    {
      "cell_type": "code",
      "execution_count": null,
      "metadata": {
        "id": "k7K7iI7BXMmg"
      },
      "outputs": [],
      "source": [
        "if False:\n",
        "  from sklearn.metrics import f1_score, balanced_accuracy_score\n",
        "  final_test_set = pd.read_csv('test_set.csv')\n",
        "  ground_truth = final_test_set['CLASS']\n",
        "  print(\"Balanced Accuracy: {}\".format(balanced_accuracy_score(predictions, ground_truth)))\n",
        "  print(\"F1 Weighted-Score: {}\".format(f1_score(predictions, ground_truth, average='weighted')))"
      ]
    },
    {
      "cell_type": "markdown",
      "metadata": {
        "id": "YJH-9KdOzW7z"
      },
      "source": [
        "Both should aim above 85%!"
      ]
    }
  ],
  "metadata": {
    "colab": {
      "collapsed_sections": [],
      "name": "9401_THEODOROS_IOANNIDIS_ioannidit@ece.auth.gr_EnsembleMethods.ipynb",
      "provenance": []
    },
    "gpuClass": "standard",
    "interpreter": {
      "hash": "b75e1fc7662d1d26acfadeff55dd73fae73e7401a313ed24a759d447e5c9b396"
    },
    "kernelspec": {
      "display_name": "Python 3.9.13 64-bit (windows store)",
      "language": "python",
      "name": "python3"
    },
    "language_info": {
      "codemirror_mode": {
        "name": "ipython",
        "version": 3
      },
      "file_extension": ".py",
      "mimetype": "text/x-python",
      "name": "python",
      "nbconvert_exporter": "python",
      "pygments_lexer": "ipython3",
      "version": "3.9.13"
    }
  },
  "nbformat": 4,
  "nbformat_minor": 0
}
